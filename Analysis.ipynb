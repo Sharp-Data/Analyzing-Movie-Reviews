{
 "cells": [
  {
   "cell_type": "code",
   "execution_count": 16,
   "metadata": {
    "collapsed": true
   },
   "outputs": [],
   "source": [
    "import pandas as pd\n",
    "import matplotlib.pyplot as plt\n",
    "import numpy as np\n",
    "from scipy import stats\n",
    "%matplotlib inline"
   ]
  },
  {
   "cell_type": "code",
   "execution_count": 17,
   "metadata": {
    "collapsed": true
   },
   "outputs": [],
   "source": [
    "movies = pd.read_csv(\"fandango_score_comparison.csv\")\n",
    "fandango = movies['Fandango_Stars']\n",
    "meta = movies['Metacritic_norm_round']"
   ]
  },
  {
   "cell_type": "code",
   "execution_count": 18,
   "metadata": {
    "collapsed": false
   },
   "outputs": [
    {
     "data": {
      "image/png": "[encoded data removed]",
      "text/plain": [
       "<matplotlib.figure.Figure at 0x7f6ccfc0fc18>"
      ]
     },
     "metadata": {},
     "output_type": "display_data"
    },
    {
     "data": {
      "image/png": "[encoded data removed]",
      "text/plain": [
       "<matplotlib.figure.Figure at 0x7f6ccfb69c88>"
      ]
     },
     "metadata": {},
     "output_type": "display_data"
    }
   ],
   "source": [
    "# Plotting Metacritic ratings and Fandango Ratings\n",
    "plt.hist(meta)\n",
    "plt.show()\n",
    "plt.hist(fandango)\n",
    "plt.show()"
   ]
  },
  {
   "cell_type": "markdown",
   "metadata": {},
   "source": [
    "The most obvious difference is that Metacritic's ratings range from 0.5 to 4.5 while Fandango's ratings range from 3 to 5."
   ]
  },
  {
   "cell_type": "code",
   "execution_count": 19,
   "metadata": {
    "collapsed": false
   },
   "outputs": [],
   "source": [
    "fandango_mean = fandango.mean()\n",
    "meta_mean = meta.mean()\n",
    "\n",
    "fandango_median = fandango.median()\n",
    "meta_median = meta.median()\n",
    "\n",
    "fandango_stdev = fandango.std()\n",
    "meta_stdev = meta.std()"
   ]
  },
  {
   "cell_type": "code",
   "execution_count": 20,
   "metadata": {
    "collapsed": false
   },
   "outputs": [
    {
     "name": "stdout",
     "output_type": "stream",
     "text": [
      "4.08904109589\n",
      "2.97260273973\n"
     ]
    }
   ],
   "source": [
    "print(fandango_mean)\n",
    "print(meta_mean)"
   ]
  },
  {
   "cell_type": "code",
   "execution_count": 21,
   "metadata": {
    "collapsed": false
   },
   "outputs": [
    {
     "name": "stdout",
     "output_type": "stream",
     "text": [
      "4.0\n",
      "3.0\n"
     ]
    }
   ],
   "source": [
    "print(fandango_median)\n",
    "print(meta_median)"
   ]
  },
  {
   "cell_type": "code",
   "execution_count": 22,
   "metadata": {
    "collapsed": false
   },
   "outputs": [
    {
     "name": "stdout",
     "output_type": "stream",
     "text": [
      "0.540385977979\n",
      "0.990960561374\n"
     ]
    }
   ],
   "source": [
    "print(fandango_stdev)\n",
    "print(meta_stdev)"
   ]
  },
  {
   "cell_type": "markdown",
   "metadata": {},
   "source": [
    "The mean, median and standard deviations of the normalised scores from Metacritic and Fandango are not nearly as similar as one would expect, considering they are scoring the same movies.  The methodology they use however, is very different.  Metacritic uses a weighted average of movie critic  ratings while fandango avereges their users ratings.  "
   ]
  },
  {
   "cell_type": "markdown",
   "metadata": {},
   "source": [
    "The numbers back up what the histograms showed.  Fandango has a much lower range, concentrated at the top of the ratings spectrum.  This is why the standard deviation for fandango is much lower, while the mean and median are both much higher."
   ]
  },
  {
   "cell_type": "code",
   "execution_count": 23,
   "metadata": {
    "collapsed": false
   },
   "outputs": [
    {
     "data": {
      "image/png": "[encoded data removed]",
      "text/plain": [
       "<matplotlib.figure.Figure at 0x7f6ccfc49d30>"
      ]
     },
     "metadata": {},
     "output_type": "display_data"
    }
   ],
   "source": [
    "fig, ax = plt.subplots()\n",
    "ax.scatter(meta, fandango)\n",
    "ax.set_xlabel('Fandango')\n",
    "ax.set_ylabel('Metacritic')\n",
    "plt.show()"
   ]
  },
  {
   "cell_type": "code",
   "execution_count": 24,
   "metadata": {
    "collapsed": false
   },
   "outputs": [
    {
     "name": "stdout",
     "output_type": "stream",
     "text": [
      "                        FILM  RottenTomatoes  RottenTomatoes_User  Metacritic  \\\n",
      "3     Do You Believe? (2015)              18                   84          22   \n",
      "85         Little Boy (2015)              20                   81          30   \n",
      "47              Annie (2014)              27                   61          33   \n",
      "19             Pixels (2015)              17                   54          27   \n",
      "134  The Longest Ride (2015)              31                   73          33   \n",
      "\n",
      "     Metacritic_User  IMDB  Fandango_Stars  Fandango_Ratingvalue  RT_norm  \\\n",
      "3                4.7   5.4             5.0                   4.5     0.90   \n",
      "85               5.9   7.4             4.5                   4.3     1.00   \n",
      "47               4.8   5.2             4.5                   4.2     1.35   \n",
      "19               5.3   5.6             4.5                   4.1     0.85   \n",
      "134              4.8   7.2             4.5                   4.5     1.55   \n",
      "\n",
      "     RT_user_norm   ...     RT_norm_round  RT_user_norm_round  \\\n",
      "3            4.20   ...               1.0                 4.0   \n",
      "85           4.05   ...               1.0                 4.0   \n",
      "47           3.05   ...               1.5                 3.0   \n",
      "19           2.70   ...               1.0                 2.5   \n",
      "134          3.65   ...               1.5                 3.5   \n",
      "\n",
      "     Metacritic_norm_round  Metacritic_user_norm_round  IMDB_norm_round  \\\n",
      "3                      1.0                         2.5              2.5   \n",
      "85                     1.5                         3.0              3.5   \n",
      "47                     1.5                         2.5              2.5   \n",
      "19                     1.5                         2.5              3.0   \n",
      "134                    1.5                         2.5              3.5   \n",
      "\n",
      "     Metacritic_user_vote_count  IMDB_user_vote_count  Fandango_votes  \\\n",
      "3                            31                  3136            1793   \n",
      "85                           38                  5927             811   \n",
      "47                          108                 19222            6835   \n",
      "19                          246                 19521            3886   \n",
      "134                          49                 25214            2603   \n",
      "\n",
      "     Fandango_Difference  fm_diff  \n",
      "3                    0.5      4.0  \n",
      "85                   0.2      3.0  \n",
      "47                   0.3      3.0  \n",
      "19                   0.4      3.0  \n",
      "134                  0.0      3.0  \n",
      "\n",
      "[5 rows x 23 columns]\n"
     ]
    }
   ],
   "source": [
    "movies['fm_diff'] = meta - fandango\n",
    "movies['fm_diff'] = abs(movies['fm_diff'])\n",
    "movies = movies.sort_values('fm_diff', ascending=False)\n",
    "print(movies.head())"
   ]
  },
  {
   "cell_type": "code",
   "execution_count": 25,
   "metadata": {
    "collapsed": false
   },
   "outputs": [
    {
     "name": "stdout",
     "output_type": "stream",
     "text": [
      "(0.17844919073895918, 0.031161516228523815)\n"
     ]
    }
   ],
   "source": [
    "r_val = scipy.stats.pearsonr(fandango, meta)\n",
    "print(r_val)"
   ]
  },
  {
   "cell_type": "markdown",
   "metadata": {},
   "source": [
    "The correlation between fandango and meta is fairly low, which probably means we can't accurately predict a Metacritic score based on a Fandango score."
   ]
  },
  {
   "cell_type": "code",
   "execution_count": 26,
   "metadata": {
    "collapsed": false
   },
   "outputs": [
    {
     "name": "stdout",
     "output_type": "stream",
     "text": [
      "LinregressResult(slope=0.097311077973928267, intercept=3.7997739188994188, rvalue=0.17844919073895882, pvalue=0.031161516228524384, stderr=0.04471354465679829)\n"
     ]
    }
   ],
   "source": [
    "lr = scipy.stats.linregress(meta, fandango)\n",
    "print(lr)"
   ]
  },
  {
   "cell_type": "code",
   "execution_count": 27,
   "metadata": {
    "collapsed": false
   },
   "outputs": [
    {
     "name": "stdout",
     "output_type": "stream",
     "text": [
      "4.09170715282\n"
     ]
    }
   ],
   "source": [
    "pred_3 = 3 * lr[0] + lr[1]\n",
    "print(pred_3)"
   ]
  },
  {
   "cell_type": "code",
   "execution_count": 28,
   "metadata": {
    "collapsed": false
   },
   "outputs": [
    {
     "name": "stdout",
     "output_type": "stream",
     "text": [
      "3.89708499687\n"
     ]
    }
   ],
   "source": [
    "pred_1 = 1 * lr[0] + lr[1]\n",
    "print(pred_1)"
   ]
  },
  {
   "cell_type": "code",
   "execution_count": 29,
   "metadata": {
    "collapsed": false
   },
   "outputs": [
    {
     "name": "stdout",
     "output_type": "stream",
     "text": [
      "4.28632930877\n"
     ]
    }
   ],
   "source": [
    "pred_5 = 5 * lr[0] + lr[1]\n",
    "print(pred_5)"
   ]
  },
  {
   "cell_type": "code",
   "execution_count": 30,
   "metadata": {
    "collapsed": false
   },
   "outputs": [
    {
     "data": {
      "image/png": "[encoded data removed]",
      "text/plain": [
       "<matplotlib.figure.Figure at 0x7f6ccfaad630>"
      ]
     },
     "metadata": {},
     "output_type": "display_data"
    }
   ],
   "source": [
    "fig, ax = plt.subplots()\n",
    "ax.scatter(meta, fandango)\n",
    "ax.plot([1.0, 5.0], [pred_1, pred_5])\n",
    "ax.set_xlabel('Fandango')\n",
    "ax.set_ylabel('Metacritic')\n",
    "plt.xlim()\n",
    "plt.show()"
   ]
  }
 ],
 "metadata": {
  "kernelspec": {
   "display_name": "Python 3",
   "language": "python",
   "name": "python3"
  },
  "language_info": {
   "codemirror_mode": {
    "name": "ipython",
    "version": 3
   },
   "file_extension": ".py",
   "mimetype": "text/x-python",
   "name": "python",
   "nbconvert_exporter": "python",
   "pygments_lexer": "ipython3",
   "version": "3.4.3"
  }
 },
 "nbformat": 4,
 "nbformat_minor": 0
}
